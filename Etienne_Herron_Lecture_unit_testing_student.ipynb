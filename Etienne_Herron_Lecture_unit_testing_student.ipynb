{
  "nbformat": 4,
  "nbformat_minor": 0,
  "metadata": {
    "colab": {
      "provenance": [],
      "include_colab_link": true
    },
    "kernelspec": {
      "name": "python3",
      "display_name": "Python 3"
    },
    "language_info": {
      "name": "python"
    }
  },
  "cells": [
    {
      "cell_type": "markdown",
      "metadata": {
        "id": "view-in-github",
        "colab_type": "text"
      },
      "source": [
        "<a href=\"https://colab.research.google.com/github/etienne-herron/CompPhys/blob/main/Etienne_Herron_Lecture_unit_testing_student.ipynb\" target=\"_parent\"><img src=\"https://colab.research.google.com/assets/colab-badge.svg\" alt=\"Open In Colab\"/></a>"
      ]
    },
    {
      "cell_type": "markdown",
      "source": [
        "# Testing\n",
        "\n",
        "* When writing functions and programs, we should be sure to test the output.\n",
        "* You can compare the output to what is expected using assert."
      ],
      "metadata": {
        "id": "oFhxG5FhwaT9"
      }
    },
    {
      "cell_type": "code",
      "execution_count": 14,
      "metadata": {
        "id": "duhXt5_ZHLuh"
      },
      "outputs": [],
      "source": [
        "# define a function that multiplies by 2 and subtracts one\n",
        "import numpy as np\n",
        "import matplotlib.pyplot as plt\n",
        "\n",
        "def myfunc(x):\n",
        "  ''' multiply by 2 and subtract 1'''\n",
        "  y = 2*x - 1\n",
        "  return y\n"
      ]
    },
    {
      "cell_type": "code",
      "source": [
        "# use assert to test the output when the input is equal to x\n",
        "assert myfunc(0)==-1\n",
        "\n",
        "#assertion error would indicate thats something is wrong"
      ],
      "metadata": {
        "id": "rnke5hHwqNe5"
      },
      "execution_count": 15,
      "outputs": []
    },
    {
      "cell_type": "markdown",
      "source": [
        "# Using `try` and `except`\n",
        "\n",
        "* We can make this a little more sophisticated using the try/except commands.\n",
        "* This will allow us to give information back to the user without causing the testing cell to crash.\n",
        "* We could also tailor the feedback based on what the function returns.\n"
      ],
      "metadata": {
        "id": "DQ1gyLLQyNaD"
      }
    },
    {
      "cell_type": "code",
      "source": [
        "# demo : use try and except to make the code more robust\n",
        "\n",
        "# if the function returns the correct value, congratulate the user\n",
        "\n",
        "# if the function returns a wrong value, print error message to user\n",
        "\n",
        "try:\n",
        "  assert myfunc(0)== -1\n",
        "except AssertionError:\n",
        "  print('The function returned the wrong value!')"
      ],
      "metadata": {
        "id": "C5EGegacrM0C"
      },
      "execution_count": 22,
      "outputs": []
    },
    {
      "cell_type": "markdown",
      "source": [
        "# Your turn\n",
        "\n",
        "follow the instructions below to create a function and test it."
      ],
      "metadata": {
        "id": "OK1Oo-n2yY0O"
      }
    },
    {
      "cell_type": "code",
      "source": [
        "# make a function that squares the input\n",
        "def squared(x):\n",
        "  y = x**2\n",
        "  return y\n"
      ],
      "metadata": {
        "id": "wWFUF590riet"
      },
      "execution_count": 23,
      "outputs": []
    },
    {
      "cell_type": "code",
      "source": [
        "# test with a positive number\n",
        "\n",
        "# test with a negative number\n",
        "\n",
        "# test with zero\n",
        "\n",
        "try:\n",
        "  assert squared(0)==0\n",
        "except AssertionError:\n",
        "  print(\"Something's off buddy... try again\")\n",
        "\n",
        "try:\n",
        "  assert squared(2)==4\n",
        "except AssertionError:\n",
        "  print(\"Something's off buddy... try again\")\n",
        "\n",
        "try:\n",
        "  assert squared(-8)==64\n",
        "except AssertionError:\n",
        "  print(\"Something's off buddy... try again\")"
      ],
      "metadata": {
        "id": "5Eb332XWm2sn"
      },
      "execution_count": 34,
      "outputs": []
    },
    {
      "cell_type": "markdown",
      "source": [
        "# Create your own example\n",
        "\n",
        "* Create your own function\n",
        "* develop a test code to check the output of the function"
      ],
      "metadata": {
        "id": "f5hjrr1sm0d6"
      }
    },
    {
      "cell_type": "code",
      "source": [
        "#cosine funtion\n",
        "\n",
        "def cosine(theta):\n",
        "  val = np.cos(theta)\n",
        "  return val"
      ],
      "metadata": {
        "id": "FiBjJsdODfjh"
      },
      "execution_count": 35,
      "outputs": []
    },
    {
      "cell_type": "code",
      "source": [
        "cosine(0)"
      ],
      "metadata": {
        "colab": {
          "base_uri": "https://localhost:8080/"
        },
        "id": "bUNghjG-D5k4",
        "outputId": "77523af7-33cd-4e07-b766-a9669e236452"
      },
      "execution_count": 37,
      "outputs": [
        {
          "output_type": "execute_result",
          "data": {
            "text/plain": [
              "1.0"
            ]
          },
          "metadata": {},
          "execution_count": 37
        }
      ]
    },
    {
      "cell_type": "code",
      "source": [
        "try:\n",
        "  assert cosine(np.pi) == -1\n",
        "except AssertionError:\n",
        "  print('Not quite... new angle')"
      ],
      "metadata": {
        "id": "OZIb2G4gD1Nt"
      },
      "execution_count": 38,
      "outputs": []
    },
    {
      "cell_type": "code",
      "source": [],
      "metadata": {
        "id": "CbZGXSSYEK6d"
      },
      "execution_count": null,
      "outputs": []
    }
  ]
}